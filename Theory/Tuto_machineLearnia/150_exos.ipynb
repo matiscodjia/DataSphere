{
 "cells": [
  {
   "cell_type": "code",
   "execution_count": 1,
   "id": "initial_id",
   "metadata": {
    "collapsed": true,
    "ExecuteTime": {
     "end_time": "2024-01-13T16:59:31.714817Z",
     "start_time": "2024-01-13T16:59:31.708396Z"
    }
   },
   "outputs": [
    {
     "data": {
      "text/plain": "'g*a*s*t*o*n'"
     },
     "execution_count": 1,
     "metadata": {},
     "output_type": "execute_result"
    }
   ],
   "source": [
    "def contains_letter_e(word):\n",
    "    return word.__contains__('e')\n",
    "contains_letter_e(\"xact\")\n",
    "def insert_star(word):\n",
    "    return '*'.join(word)\n",
    "insert_star(\"gaston\")"
   ]
  },
  {
   "cell_type": "code",
   "outputs": [
    {
     "data": {
      "text/plain": "True"
     },
     "execution_count": 5,
     "metadata": {},
     "output_type": "execute_result"
    }
   ],
   "source": [],
   "metadata": {
    "collapsed": false,
    "ExecuteTime": {
     "end_time": "2023-12-31T20:54:13.631809Z",
     "start_time": "2023-12-31T20:54:13.626118Z"
    }
   },
   "id": "4522bf7d2c6c9026",
   "execution_count": 5
  },
  {
   "cell_type": "code",
   "outputs": [],
   "source": [],
   "metadata": {
    "collapsed": false
   },
   "id": "b2470c5a88ee52b2"
  }
 ],
 "metadata": {
  "kernelspec": {
   "display_name": "Python 3",
   "language": "python",
   "name": "python3"
  },
  "language_info": {
   "codemirror_mode": {
    "name": "ipython",
    "version": 2
   },
   "file_extension": ".py",
   "mimetype": "text/x-python",
   "name": "python",
   "nbconvert_exporter": "python",
   "pygments_lexer": "ipython2",
   "version": "2.7.6"
  }
 },
 "nbformat": 4,
 "nbformat_minor": 5
}
