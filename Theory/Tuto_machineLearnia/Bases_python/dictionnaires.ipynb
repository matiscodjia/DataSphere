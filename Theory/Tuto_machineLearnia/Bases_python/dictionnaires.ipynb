{
 "cells": [
  {
   "cell_type": "code",
   "execution_count": 7,
   "metadata": {},
   "outputs": [],
   "source": [
    "import random\n",
    "def trier(classeur, number):\n",
    "    if(number < 0):\n",
    "        classeur[\"négatif\"].append(number)\n",
    "    else :\n",
    "        classeur[\"positif\"].append(number)\n",
    "    return classeur\n",
    "def remplissage(classeur,numbers):\n",
    "    for number in numbers:\n",
    "        trier(classeur,number)"
   ]
  },
  {
   "cell_type": "code",
   "execution_count": 12,
   "metadata": {},
   "outputs": [
    {
     "name": "stdout",
     "output_type": "stream",
     "text": [
      "{'négatif': [-74, -189, -48, -14, -115, -104, -134, -132, -58, -50, -112, -94, -135, -88, -57, -14, -153, -19], 'positif': [94, 273, 257, 52, 34, 56, 259, 22, 313, 91, 231, 238, 139, 305, 38, 33, 277, 8, 244, 175, 194, 257, 119, 99, 75, 231, 133]}\n"
     ]
    }
   ],
   "source": [
    "classeur = {\n",
    "    \"négatif\":[],\n",
    "    \"positif\":[]\n",
    "}\n",
    "numbers = []\n",
    "for i in range(45):\n",
    "    numbers.append(random.randint(i-200,i+300))\n",
    "\n",
    "remplissage(classeur,numbers)\n",
    "print(classeur)\n"
   ]
  }
 ],
 "metadata": {
  "kernelspec": {
   "display_name": "base",
   "language": "python",
   "name": "python3"
  },
  "language_info": {
   "codemirror_mode": {
    "name": "ipython",
    "version": 3
   },
   "file_extension": ".py",
   "mimetype": "text/x-python",
   "name": "python",
   "nbconvert_exporter": "python",
   "pygments_lexer": "ipython3",
   "version": "3.11.5"
  }
 },
 "nbformat": 4,
 "nbformat_minor": 2
}
