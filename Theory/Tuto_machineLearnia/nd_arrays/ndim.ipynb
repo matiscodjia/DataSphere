{
 "cells": [
  {
   "cell_type": "code",
   "execution_count": 8,
   "metadata": {},
   "outputs": [],
   "source": [
    "import numpy as np\n",
    "\n",
    "\n",
    "def initialisation(m, n):\n",
    "    biais = np.ones((m,1))\n",
    "    matrice = np.random.randn(m,n)\n",
    "    matrice = np.concatenate((matrice,biais), axis = 1)\n",
    "    print(matrice)"
   ]
  },
  {
   "cell_type": "code",
   "execution_count": 10,
   "metadata": {},
   "outputs": [
    {
     "name": "stdout",
     "output_type": "stream",
     "text": [
      "[[ 1.40260869 -0.66580501  1.63389207  0.15879361  1.        ]\n",
      " [-0.760959    0.09356362  0.17900282  0.21003699  1.        ]\n",
      " [ 0.27613029 -1.36452893  1.34339331 -0.65131578  1.        ]\n",
      " [-1.04171633 -0.518902    1.04131838 -1.75943684  1.        ]]\n"
     ]
    }
   ],
   "source": [
    "initialisation(4,4)"
   ]
  },
  {
   "cell_type": "code",
   "execution_count": null,
   "metadata": {},
   "outputs": [],
   "source": []
  }
 ],
 "metadata": {
  "kernelspec": {
   "display_name": "base",
   "language": "python",
   "name": "python3"
  },
  "language_info": {
   "codemirror_mode": {
    "name": "ipython",
    "version": 3
   },
   "file_extension": ".py",
   "mimetype": "text/x-python",
   "name": "python",
   "nbconvert_exporter": "python",
   "pygments_lexer": "ipython3",
   "version": "3.11.5"
  }
 },
 "nbformat": 4,
 "nbformat_minor": 2
}
