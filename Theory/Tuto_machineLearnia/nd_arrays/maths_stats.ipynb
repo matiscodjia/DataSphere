{
 "cells": [
  {
   "cell_type": "code",
   "execution_count": 1,
   "metadata": {
    "ExecuteTime": {
     "end_time": "2024-01-26T11:42:00.143517Z",
     "start_time": "2024-01-26T11:42:00.052981Z"
    }
   },
   "outputs": [],
   "source": [
    "import numpy as np"
   ]
  },
  {
   "cell_type": "code",
   "execution_count": 2,
   "metadata": {
    "ExecuteTime": {
     "end_time": "2024-01-26T11:42:00.168129Z",
     "start_time": "2024-01-26T11:42:00.112167Z"
    }
   },
   "outputs": [
    {
     "data": {
      "text/plain": "array([[ 0.5213099 , -1.43406949,  0.38217535],\n       [-0.07441345,  1.23187687, -0.9457791 ]])"
     },
     "execution_count": 2,
     "metadata": {},
     "output_type": "execute_result"
    }
   ],
   "source": [
    "A = np.random.randn(2,3)\n",
    "A"
   ]
  },
  {
   "cell_type": "code",
   "execution_count": 3,
   "metadata": {
    "ExecuteTime": {
     "end_time": "2024-01-26T11:42:00.233630Z",
     "start_time": "2024-01-26T11:42:00.128412Z"
    }
   },
   "outputs": [
    {
     "data": {
      "text/plain": "array([-0.53058425,  0.21168432])"
     },
     "execution_count": 3,
     "metadata": {},
     "output_type": "execute_result"
    }
   ],
   "source": [
    "\n",
    "A.sum(axis=1)\n",
    "\n"
   ]
  },
  {
   "cell_type": "code",
   "execution_count": 4,
   "metadata": {
    "ExecuteTime": {
     "end_time": "2024-01-26T11:42:00.306727Z",
     "start_time": "2024-01-26T11:42:00.142168Z"
    }
   },
   "outputs": [
    {
     "data": {
      "text/plain": "array([ 0.44689645, -0.20219263, -0.56360375])"
     },
     "execution_count": 4,
     "metadata": {},
     "output_type": "execute_result"
    }
   ],
   "source": [
    "A.sum(axis=0)"
   ]
  },
  {
   "cell_type": "code",
   "outputs": [
    {
     "data": {
      "text/plain": "array([[ 0.5213099 , -0.9127596 , -0.53058425],\n       [-0.07441345,  1.15746342,  0.21168432]])"
     },
     "execution_count": 5,
     "metadata": {},
     "output_type": "execute_result"
    }
   ],
   "source": [
    "A.cumsum(axis=1)"
   ],
   "metadata": {
    "collapsed": false,
    "ExecuteTime": {
     "end_time": "2024-01-26T11:42:00.345383Z",
     "start_time": "2024-01-26T11:42:00.153985Z"
    }
   },
   "execution_count": 5
  },
  {
   "cell_type": "code",
   "outputs": [
    {
     "data": {
      "text/plain": "array([1, 0, 1])"
     },
     "execution_count": 6,
     "metadata": {},
     "output_type": "execute_result"
    }
   ],
   "source": [
    "A.argmin(axis=0)"
   ],
   "metadata": {
    "collapsed": false,
    "ExecuteTime": {
     "end_time": "2024-01-26T11:42:00.346594Z",
     "start_time": "2024-01-26T11:42:00.160861Z"
    }
   },
   "execution_count": 6
  },
  {
   "cell_type": "code",
   "outputs": [
    {
     "data": {
      "text/plain": "array([[1.68423238, 0.23833703, 1.46546903],\n       [0.92828781, 3.42765676, 0.38837687]])"
     },
     "execution_count": 7,
     "metadata": {},
     "output_type": "execute_result"
    }
   ],
   "source": [
    "np.exp(A)"
   ],
   "metadata": {
    "collapsed": false,
    "ExecuteTime": {
     "end_time": "2024-01-26T11:42:00.382593Z",
     "start_time": "2024-01-26T11:42:00.168584Z"
    }
   },
   "execution_count": 7
  },
  {
   "cell_type": "code",
   "outputs": [
    {
     "data": {
      "text/plain": "-0.05314998786830385"
     },
     "execution_count": 8,
     "metadata": {},
     "output_type": "execute_result"
    }
   ],
   "source": [
    "A.mean()"
   ],
   "metadata": {
    "collapsed": false,
    "ExecuteTime": {
     "end_time": "2024-01-26T11:42:03.507898Z",
     "start_time": "2024-01-26T11:42:03.436932Z"
    }
   },
   "execution_count": 8
  },
  {
   "cell_type": "code",
   "outputs": [
    {
     "data": {
      "text/plain": "0.8124973118530833"
     },
     "execution_count": 9,
     "metadata": {},
     "output_type": "execute_result"
    }
   ],
   "source": [
    "A.var()"
   ],
   "metadata": {
    "collapsed": false,
    "ExecuteTime": {
     "end_time": "2024-01-26T11:42:03.508723Z",
     "start_time": "2024-01-26T11:42:03.441102Z"
    }
   },
   "execution_count": 9
  },
  {
   "cell_type": "code",
   "outputs": [
    {
     "data": {
      "text/plain": "0.9633643737089718"
     },
     "execution_count": 16,
     "metadata": {},
     "output_type": "execute_result"
    }
   ],
   "source": [
    "A.std()"
   ],
   "metadata": {
    "collapsed": false,
    "ExecuteTime": {
     "end_time": "2023-12-28T15:13:01.784919Z",
     "start_time": "2023-12-28T15:13:01.778105Z"
    }
   },
   "execution_count": 16
  },
  {
   "cell_type": "code",
   "outputs": [
    {
     "data": {
      "text/plain": "-0.716207509162587"
     },
     "execution_count": 18,
     "metadata": {},
     "output_type": "execute_result"
    }
   ],
   "source": [
    "np.corrcoef(A)[0,1]"
   ],
   "metadata": {
    "collapsed": false,
    "ExecuteTime": {
     "end_time": "2023-12-28T15:14:34.466447Z",
     "start_time": "2023-12-28T15:14:34.460377Z"
    }
   },
   "execution_count": 18
  },
  {
   "cell_type": "code",
   "outputs": [
    {
     "data": {
      "text/plain": "(array([-2.25268705, -0.96644772, -0.75423212, -0.02313592,  0.45120649,\n         0.54024866]),\n array([1, 1, 1, 1, 1, 1]))"
     },
     "execution_count": 19,
     "metadata": {},
     "output_type": "execute_result"
    }
   ],
   "source": [
    "np.unique(A, return_counts=True)"
   ],
   "metadata": {
    "collapsed": false,
    "ExecuteTime": {
     "end_time": "2023-12-28T15:14:55.535082Z",
     "start_time": "2023-12-28T15:14:55.529627Z"
    }
   },
   "execution_count": 19
  },
  {
   "cell_type": "code",
   "outputs": [
    {
     "data": {
      "text/plain": "array([[5, 0, 3, 3, 7],\n       [9, 3, 5, 2, 4],\n       [7, 6, 8, 8, 1],\n       [6, 7, 7, 8, 1],\n       [5, 9, 8, 9, 4]])"
     },
     "execution_count": 20,
     "metadata": {},
     "output_type": "execute_result"
    }
   ],
   "source": [
    "np.random.seed(0)\n",
    "A = np.random.randint(0,10,[5,5])\n",
    "A"
   ],
   "metadata": {
    "collapsed": false,
    "ExecuteTime": {
     "end_time": "2023-12-28T15:15:59.860394Z",
     "start_time": "2023-12-28T15:15:59.851859Z"
    }
   },
   "execution_count": 20
  },
  {
   "cell_type": "code",
   "outputs": [
    {
     "data": {
      "text/plain": "array([1, 2, 1, 3, 2, 3, 2, 4, 4, 3])"
     },
     "execution_count": 21,
     "metadata": {},
     "output_type": "execute_result"
    }
   ],
   "source": [
    "v, c = np.unique(A, return_counts=True)\n",
    "c"
   ],
   "metadata": {
    "collapsed": false,
    "ExecuteTime": {
     "end_time": "2023-12-28T15:16:32.292535Z",
     "start_time": "2023-12-28T15:16:32.283816Z"
    }
   },
   "execution_count": 21
  },
  {
   "cell_type": "code",
   "outputs": [
    {
     "name": "stdout",
     "output_type": "stream",
     "text": [
      "valeur 0 apparaît 1 fois\n",
      "valeur 2 apparaît 1 fois\n",
      "valeur 1 apparaît 2 fois\n",
      "valeur 4 apparaît 2 fois\n",
      "valeur 6 apparaît 2 fois\n",
      "valeur 3 apparaît 3 fois\n",
      "valeur 5 apparaît 3 fois\n",
      "valeur 9 apparaît 3 fois\n",
      "valeur 7 apparaît 4 fois\n",
      "valeur 8 apparaît 4 fois\n"
     ]
    }
   ],
   "source": [
    "for i ,j in zip(v[c.argsort()], c[c.argsort()]):\n",
    "    print(f'valeur {i} apparaît {j} fois')"
   ],
   "metadata": {
    "collapsed": false,
    "ExecuteTime": {
     "end_time": "2023-12-28T15:19:09.405472Z",
     "start_time": "2023-12-28T15:19:09.397504Z"
    }
   },
   "execution_count": 22
  },
  {
   "cell_type": "code",
   "outputs": [
    {
     "data": {
      "text/plain": "array([[44, 47, 64, 67, 67],\n       [ 9, 83, 21, 36, 87],\n       [70, 88, 88, 12, 58],\n       [65, 39, 87, 46, 88],\n       [81, 37, 25, 77, 72],\n       [ 9, 20, 80, 69, 79],\n       [47, 64, 82, 99, 88],\n       [49, 29, 19, 19, 14],\n       [39, 32, 65,  9, 57],\n       [32, 31, 74, 23, 35]])"
     },
     "execution_count": 44,
     "metadata": {},
     "output_type": "execute_result"
    }
   ],
   "source": [
    "    np.random.seed(0)\n",
    "    A = np.random.randint(0,100, [10,5])\n",
    "    A"
   ],
   "metadata": {
    "collapsed": false,
    "ExecuteTime": {
     "end_time": "2023-12-28T15:48:47.195724Z",
     "start_time": "2023-12-28T15:48:47.192257Z"
    }
   },
   "execution_count": 44
  },
  {
   "cell_type": "code",
   "outputs": [],
   "source": [
    "A_norm = (A-A.mean(axis=0))/(A.std(axis=0))"
   ],
   "metadata": {
    "collapsed": false,
    "ExecuteTime": {
     "end_time": "2023-12-28T15:48:48.445301Z",
     "start_time": "2023-12-28T15:48:48.435599Z"
    }
   },
   "execution_count": 45
  },
  {
   "cell_type": "code",
   "outputs": [
    {
     "data": {
      "text/plain": "array([[-0.02206157,  0.        ,  0.13173823,  0.72539252,  0.10755798],\n       [-1.56637126,  1.61579632, -1.48676006, -0.33034307,  0.96802178],\n       [ 1.12513992,  1.84021247,  1.03508612, -1.14768676, -0.27965074],\n       [ 0.90452425, -0.35906585,  0.99744662,  0.0102168 ,  1.01104497],\n       [ 1.6104944 , -0.44883231, -1.33620208,  1.0659524 ,  0.32267393],\n       [-1.56637126, -1.21184724,  0.73397016,  0.7935045 ,  0.62383626],\n       [ 0.11030784,  0.76301493,  0.80924915,  1.81518411,  1.01104497],\n       [ 0.1985541 , -0.80789816, -1.56203905, -0.90929485, -2.17267111],\n       [-0.24267724, -0.67324847,  0.16937773, -1.24985473, -0.32267393],\n       [-0.55153918, -0.7181317 ,  0.50813319, -0.77307091, -1.26918412]])"
     },
     "execution_count": 46,
     "metadata": {},
     "output_type": "execute_result"
    }
   ],
   "source": [
    "A_norm"
   ],
   "metadata": {
    "collapsed": false,
    "ExecuteTime": {
     "end_time": "2023-12-28T15:48:49.784241Z",
     "start_time": "2023-12-28T15:48:49.774724Z"
    }
   },
   "execution_count": 46
  },
  {
   "cell_type": "code",
   "outputs": [],
   "source": [],
   "metadata": {
    "collapsed": false
   }
  }
 ],
 "metadata": {
  "kernelspec": {
   "display_name": "base",
   "language": "python",
   "name": "python3"
  },
  "language_info": {
   "codemirror_mode": {
    "name": "ipython",
    "version": 3
   },
   "file_extension": ".py",
   "mimetype": "text/x-python",
   "name": "python",
   "nbconvert_exporter": "python",
   "pygments_lexer": "ipython3",
   "version": "3.11.5"
  }
 },
 "nbformat": 4,
 "nbformat_minor": 2
}
