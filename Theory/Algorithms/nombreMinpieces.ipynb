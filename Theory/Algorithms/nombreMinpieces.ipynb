{
 "cells": [
  {
   "cell_type": "code",
   "execution_count": 86,
   "metadata": {},
   "outputs": [],
   "source": [
    "pieces = {1,2,5}\n",
    "import numpy as np\n"
   ]
  },
  {
   "cell_type": "code",
   "execution_count": 96,
   "metadata": {},
   "outputs": [],
   "source": [
    "def algo(pieces, montant):\n",
    "    memo = {}\n",
    "    return algoAux(pieces,montant,memo)\n",
    "def algoAux(pieces,montant,memo):\n",
    "    if montant == 0:\n",
    "        return 0\n",
    "    if montant in memo:\n",
    "        return memo[montant]\n",
    "    q = float('inf')\n",
    "    for p in pieces:\n",
    "         if p <= montant:\n",
    "            avec = 1 + algo(pieces,montant-p)\n",
    "            sans = algo([x for x in pieces if x != p],montant)\n",
    "            q = min(q,min(avec,sans))\n",
    "    memo[montant] = q\n",
    "    return q\n"
   ]
  },
  {
   "cell_type": "code",
   "execution_count": 101,
   "metadata": {},
   "outputs": [
    {
     "data": {
      "text/plain": [
       "2"
      ]
     },
     "execution_count": 101,
     "metadata": {},
     "output_type": "execute_result"
    }
   ],
   "source": [
    "algo(pieces,10)"
   ]
  },
  {
   "cell_type": "code",
   "execution_count": 102,
   "metadata": {},
   "outputs": [
    {
     "name": "stdout",
     "output_type": "stream",
     "text": [
      "Nombre minimum de pièces nécessaires: 2\n"
     ]
    }
   ],
   "source": [
    "def algo_ascendant(pieces, montant):\n",
    "    # Initialiser une liste pour stocker les résultats intermédiaires\n",
    "    dp = [float('inf')] * (montant + 1)\n",
    "    dp[0] = 0  # Aucune pièce n'est nécessaire pour obtenir un montant de 0\n",
    "    \n",
    "    # Parcourir chaque montant de 1 à montant\n",
    "    for i in range(1, montant + 1):\n",
    "        # Parcourir chaque pièce\n",
    "        for p in pieces:\n",
    "            if p <= i:\n",
    "                # Mettre à jour dp[i] avec le minimum entre sa valeur actuelle et 1 + dp[i - p]\n",
    "                dp[i] = min(dp[i], 1 + dp[i - p])\n",
    "    \n",
    "    # Le résultat final se trouve dans dp[montant]\n",
    "    return dp[montant]\n",
    "\n",
    "# Exemple d'utilisation\n",
    "pieces = [1, 2, 5]\n",
    "montant = 10\n",
    "resultat = algo_ascendant(pieces, montant)\n",
    "print(\"Nombre minimum de pièces nécessaires:\", resultat)\n"
   ]
  }
 ],
 "metadata": {
  "kernelspec": {
   "display_name": "2ia",
   "language": "python",
   "name": "python3"
  },
  "language_info": {
   "codemirror_mode": {
    "name": "ipython",
    "version": 3
   },
   "file_extension": ".py",
   "mimetype": "text/x-python",
   "name": "python",
   "nbconvert_exporter": "python",
   "pygments_lexer": "ipython3",
   "version": "3.12.2"
  }
 },
 "nbformat": 4,
 "nbformat_minor": 2
}
