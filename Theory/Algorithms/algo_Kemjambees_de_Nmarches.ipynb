{
 "cells": [
  {
   "cell_type": "code",
   "execution_count": 35,
   "metadata": {},
   "outputs": [],
   "source": [
    "import numpy as np\n",
    "\n",
    "def initialiser_tableau_2D(valeur, lignes, colonnes):\n",
    "    return np.full((lignes, colonnes), valeur)\n",
    "\n",
    "def algo(k, n):\n",
    "    memo = initialiser_tableau_2D(-1, k + 1, n + 1)\n",
    "\n",
    "    return algoAux(k, n, memo)\n",
    "\n",
    "def algoAux(k, n, memo):\n",
    "    if memo[k][n] > 0:\n",
    "        return memo[k][n]\n",
    "    if (k == 1 and n == 1) or (k == 0 and n == 0) or (k == 1 and n == 2):\n",
    "        memo[k][n] = 1\n",
    "        return 1\n",
    "    if k > n:\n",
    "        memo[k][n] = 0\n",
    "        return 0\n",
    "    if 2 * k < n:\n",
    "        memo[k][n] = 0\n",
    "        return 0\n",
    "    q = memo[k][n] = algoAux(k - 1, n - 1, memo) + algoAux(k - 1, n - 2, memo)\n",
    "    return q\n",
    "\n",
    "\n"
   ]
  },
  {
   "cell_type": "code",
   "execution_count": 36,
   "metadata": {},
   "outputs": [
    {
     "name": "stdout",
     "output_type": "stream",
     "text": [
      "Résultat pour k = 15 et n = 28 : 105\n"
     ]
    }
   ],
   "source": [
    "k = 15\n",
    "n = 28\n",
    "print(\"Résultat pour k =\", k, \"et n =\", n, \":\", algo(k, n))"
   ]
  },
  {
   "cell_type": "code",
   "execution_count": null,
   "metadata": {},
   "outputs": [],
   "source": []
  }
 ],
 "metadata": {
  "kernelspec": {
   "display_name": "2ia",
   "language": "python",
   "name": "python3"
  },
  "language_info": {
   "codemirror_mode": {
    "name": "ipython",
    "version": 3
   },
   "file_extension": ".py",
   "mimetype": "text/x-python",
   "name": "python",
   "nbconvert_exporter": "python",
   "pygments_lexer": "ipython3",
   "version": "3.12.2"
  }
 },
 "nbformat": 4,
 "nbformat_minor": 2
}
