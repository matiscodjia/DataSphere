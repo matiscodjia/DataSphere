{
 "cells": [
  {
   "cell_type": "code",
   "execution_count": 4,
   "metadata": {},
   "outputs": [],
   "source": [
    "elements = [(5, 10), (4, 8), (6, 12)]\n"
   ]
  },
  {
   "cell_type": "code",
   "execution_count": 7,
   "metadata": {},
   "outputs": [
    {
     "name": "stdout",
     "output_type": "stream",
     "text": [
      "Valeur maximale totale : 21\n"
     ]
    }
   ],
   "source": [
    "def algo(elements, poidSac):\n",
    "    # Initialiser une liste pour stocker les valeurs de la grille\n",
    "    grille = [-1] * (poidSac + 1)\n",
    "    grille[0] = 0  # La valeur du sac à dos de poids 0 est toujours 0\n",
    "    \n",
    "    # Parcourir tous les poids possibles du sac à dos\n",
    "    for i in range(1, poidSac + 1):\n",
    "        # Parcourir tous les objets\n",
    "        for objet in elements:\n",
    "            poids = objet[0]\n",
    "            valeur = objet[1]\n",
    "            # Vérifier si l'objet peut tenir dans le sac à dos de poids i\n",
    "            if poids <= i:\n",
    "                # Mettre à jour la valeur maximale dans la grille pour le poids i\n",
    "                grille[i] = max(grille[i], valeur + grille[i - poids])\n",
    "    \n",
    "    # La valeur maximale que l'on peut obtenir pour le sac à dos de poids poidSac\n",
    "    return grille[poidSac]\n",
    "\n",
    "# Exemple d'utilisation\n",
    "objets = [(5, 10), (4, 9), (6, 12)]\n",
    "poidSac = 10\n",
    "resultat = algo(objets, poidSac)\n",
    "print(\"Valeur maximale totale :\", resultat)\n"
   ]
  },
  {
   "cell_type": "code",
   "execution_count": 5,
   "metadata": {},
   "outputs": [
    {
     "ename": "TypeError",
     "evalue": "'list' object is not callable",
     "output_type": "error",
     "traceback": [
      "\u001b[0;31m---------------------------------------------------------------------------\u001b[0m",
      "\u001b[0;31mTypeError\u001b[0m                                 Traceback (most recent call last)",
      "Cell \u001b[0;32mIn[5], line 1\u001b[0m\n\u001b[0;32m----> 1\u001b[0m \u001b[43malgo\u001b[49m\u001b[43m(\u001b[49m\u001b[43melements\u001b[49m\u001b[43m,\u001b[49m\u001b[38;5;241;43m4\u001b[39;49m\u001b[43m)\u001b[49m\n",
      "Cell \u001b[0;32mIn[2], line 9\u001b[0m, in \u001b[0;36malgo\u001b[0;34m(elements, poidSac)\u001b[0m\n\u001b[1;32m      7\u001b[0m         valeur \u001b[38;5;241m=\u001b[39m objet[\u001b[38;5;241m1\u001b[39m]\n\u001b[1;32m      8\u001b[0m         \u001b[38;5;28;01mif\u001b[39;00m poids \u001b[38;5;241m<\u001b[39m\u001b[38;5;241m=\u001b[39m i:\n\u001b[0;32m----> 9\u001b[0m             grille[i] \u001b[38;5;241m=\u001b[39m \u001b[38;5;28mmax\u001b[39m(grille[i],valeur\u001b[38;5;241m+\u001b[39m\u001b[43mgrille\u001b[49m\u001b[43m(\u001b[49m\u001b[43mi\u001b[49m\u001b[38;5;241;43m-\u001b[39;49m\u001b[43mpoids\u001b[49m\u001b[43m)\u001b[49m)\n\u001b[1;32m     10\u001b[0m \u001b[38;5;28;01mreturn\u001b[39;00m grille[poidSac]\n",
      "\u001b[0;31mTypeError\u001b[0m: 'list' object is not callable"
     ]
    }
   ],
   "source": [
    "algo(elements,4)"
   ]
  },
  {
   "cell_type": "code",
   "execution_count": null,
   "metadata": {},
   "outputs": [],
   "source": []
  }
 ],
 "metadata": {
  "kernelspec": {
   "display_name": "2ia",
   "language": "python",
   "name": "python3"
  },
  "language_info": {
   "codemirror_mode": {
    "name": "ipython",
    "version": 3
   },
   "file_extension": ".py",
   "mimetype": "text/x-python",
   "name": "python",
   "nbconvert_exporter": "python",
   "pygments_lexer": "ipython3",
   "version": "3.12.2"
  }
 },
 "nbformat": 4,
 "nbformat_minor": 2
}
