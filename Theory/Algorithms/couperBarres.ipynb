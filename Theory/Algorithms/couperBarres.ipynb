{
 "cells": [
  {
   "cell_type": "code",
   "execution_count": 29,
   "metadata": {},
   "outputs": [],
   "source": [
    "import numpy as np"
   ]
  },
  {
   "cell_type": "code",
   "execution_count": 37,
   "metadata": {},
   "outputs": [],
   "source": [
    "dict = {1:1,2:5,3:8,4:9}"
   ]
  },
  {
   "cell_type": "code",
   "execution_count": 38,
   "metadata": {},
   "outputs": [
    {
     "name": "stdout",
     "output_type": "stream",
     "text": [
      "Résultat pour n = 4 : 10\n"
     ]
    }
   ],
   "source": [
    "import numpy as np\n",
    "\n",
    "def algo(dict, n):\n",
    "    memo = np.full(n+1, -1)  # Définir memo comme un tableau à une dimension\n",
    "    return algoAux(dict, n, memo)\n",
    "\n",
    "def algoAux(dict, n, memo):\n",
    "    if memo[n] > 0:  # Vérification dans le memo pour éviter un appel récursif\n",
    "        return memo[n]\n",
    "    if n == 0:  # Cas de base\n",
    "        return 0\n",
    "    q = -1  # Initialisation du q à la valeur minimum\n",
    "    for i in range(1, n+1):  # On parcours i\n",
    "        q = max(q, dict[i] + algoAux(dict, n-i, memo))  # max(q, i+(rn-i)\n",
    "    memo[n] = q\n",
    "    return q\n",
    "\n",
    "# Exemple d'utilisation\n",
    "dict = {1: 1, 2: 5, 3: 8, 4: 9, 5: 10}  # Exemple de dictionnaire\n",
    "n = 4\n",
    "resultat = algo(dict, n)\n",
    "print(\"Résultat pour n =\", n, \":\", resultat)\n"
   ]
  },
  {
   "cell_type": "code",
   "execution_count": 41,
   "metadata": {},
   "outputs": [
    {
     "data": {
      "text/plain": [
       "10"
      ]
     },
     "execution_count": 41,
     "metadata": {},
     "output_type": "execute_result"
    }
   ],
   "source": [
    "def algoIteratif(dict,n):\n",
    "    memo = np.full(n+1, -1)\n",
    "    memo[0] = 0\n",
    "    for i in range(1,n+1):\n",
    "        q = -1\n",
    "        for j in range(1,i+1):\n",
    "            q  = max(q,dict[j]+memo[i-j])\n",
    "        memo[i] = q\n",
    "    return memo[n]\n",
    "\n",
    "algoIteratif(dict,4)\n",
    "\n",
    "    \n"
   ]
  },
  {
   "cell_type": "code",
   "execution_count": null,
   "metadata": {},
   "outputs": [],
   "source": []
  }
 ],
 "metadata": {
  "kernelspec": {
   "display_name": "2ia",
   "language": "python",
   "name": "python3"
  },
  "language_info": {
   "codemirror_mode": {
    "name": "ipython",
    "version": 3
   },
   "file_extension": ".py",
   "mimetype": "text/x-python",
   "name": "python",
   "nbconvert_exporter": "python",
   "pygments_lexer": "ipython3",
   "version": "3.12.2"
  }
 },
 "nbformat": 4,
 "nbformat_minor": 2
}
