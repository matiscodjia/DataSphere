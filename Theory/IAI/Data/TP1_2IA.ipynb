{
 "cells": [
  {
   "cell_type": "code",
   "execution_count": 6,
   "id": "initial_id",
   "metadata": {
    "collapsed": true,
    "ExecuteTime": {
     "end_time": "2024-03-28T09:05:05.367432Z",
     "start_time": "2024-03-28T09:05:05.363954Z"
    }
   },
   "outputs": [],
   "source": [
    "import pandas as pd\n",
    "import numpy as np\n",
    "from matplotlib import pyplot as plt"
   ]
  },
  {
   "cell_type": "markdown",
   "source": [
    "### On peut ouvrir un dataset sous forme .txt comme ceci"
   ],
   "metadata": {
    "collapsed": false
   },
   "id": "4a719396630c33cf"
  },
  {
   "cell_type": "code",
   "outputs": [],
   "source": [
    "data = pd.read_csv('data.txt', delimiter='\\t')"
   ],
   "metadata": {
    "collapsed": false,
    "ExecuteTime": {
     "end_time": "2024-03-28T09:06:03.065197Z",
     "start_time": "2024-03-28T09:06:03.060148Z"
    }
   },
   "id": "7bafc28cc814c56e",
   "execution_count": 10
  },
  {
   "cell_type": "code",
   "outputs": [
    {
     "data": {
      "text/plain": "          y       x.1       x.2       x.3       x.4       x.5       x.6  \\\n1  6.226780 -1.595718 -0.255838  1.048040  1.702839  1.280720  0.391428   \n2 -3.184444  1.724229  0.599976  0.093819  1.311773 -2.182775 -0.464489   \n3  0.097187  1.001717  0.711466  0.695617 -0.035941 -1.494896  0.765726   \n4  1.634090  0.147048 -0.810422  0.634098 -0.435724  0.290709 -0.464527   \n5 -4.086672  0.164425 -0.023377 -1.124172 -0.653176  0.157452  2.216320   \n\n        x.7       x.8       x.9      x.10  \n1  0.584800  0.261684 -1.799476  0.712451  \n2 -0.273726 -1.435655 -0.953009  0.599511  \n3  0.688095 -1.049411 -0.277114  1.731602  \n4  0.130383  1.681562 -0.224179  1.727557  \n5  1.974694 -0.359101  0.834054  1.132736  ",
      "text/html": "<div>\n<style scoped>\n    .dataframe tbody tr th:only-of-type {\n        vertical-align: middle;\n    }\n\n    .dataframe tbody tr th {\n        vertical-align: top;\n    }\n\n    .dataframe thead th {\n        text-align: right;\n    }\n</style>\n<table border=\"1\" class=\"dataframe\">\n  <thead>\n    <tr style=\"text-align: right;\">\n      <th></th>\n      <th>y</th>\n      <th>x.1</th>\n      <th>x.2</th>\n      <th>x.3</th>\n      <th>x.4</th>\n      <th>x.5</th>\n      <th>x.6</th>\n      <th>x.7</th>\n      <th>x.8</th>\n      <th>x.9</th>\n      <th>x.10</th>\n    </tr>\n  </thead>\n  <tbody>\n    <tr>\n      <th>1</th>\n      <td>6.226780</td>\n      <td>-1.595718</td>\n      <td>-0.255838</td>\n      <td>1.048040</td>\n      <td>1.702839</td>\n      <td>1.280720</td>\n      <td>0.391428</td>\n      <td>0.584800</td>\n      <td>0.261684</td>\n      <td>-1.799476</td>\n      <td>0.712451</td>\n    </tr>\n    <tr>\n      <th>2</th>\n      <td>-3.184444</td>\n      <td>1.724229</td>\n      <td>0.599976</td>\n      <td>0.093819</td>\n      <td>1.311773</td>\n      <td>-2.182775</td>\n      <td>-0.464489</td>\n      <td>-0.273726</td>\n      <td>-1.435655</td>\n      <td>-0.953009</td>\n      <td>0.599511</td>\n    </tr>\n    <tr>\n      <th>3</th>\n      <td>0.097187</td>\n      <td>1.001717</td>\n      <td>0.711466</td>\n      <td>0.695617</td>\n      <td>-0.035941</td>\n      <td>-1.494896</td>\n      <td>0.765726</td>\n      <td>0.688095</td>\n      <td>-1.049411</td>\n      <td>-0.277114</td>\n      <td>1.731602</td>\n    </tr>\n    <tr>\n      <th>4</th>\n      <td>1.634090</td>\n      <td>0.147048</td>\n      <td>-0.810422</td>\n      <td>0.634098</td>\n      <td>-0.435724</td>\n      <td>0.290709</td>\n      <td>-0.464527</td>\n      <td>0.130383</td>\n      <td>1.681562</td>\n      <td>-0.224179</td>\n      <td>1.727557</td>\n    </tr>\n    <tr>\n      <th>5</th>\n      <td>-4.086672</td>\n      <td>0.164425</td>\n      <td>-0.023377</td>\n      <td>-1.124172</td>\n      <td>-0.653176</td>\n      <td>0.157452</td>\n      <td>2.216320</td>\n      <td>1.974694</td>\n      <td>-0.359101</td>\n      <td>0.834054</td>\n      <td>1.132736</td>\n    </tr>\n  </tbody>\n</table>\n</div>"
     },
     "execution_count": 11,
     "metadata": {},
     "output_type": "execute_result"
    }
   ],
   "source": [
    "data.head()"
   ],
   "metadata": {
    "collapsed": false,
    "ExecuteTime": {
     "end_time": "2024-03-28T09:06:04.571596Z",
     "start_time": "2024-03-28T09:06:04.557588Z"
    }
   },
   "id": "f5b97d233c7be07c",
   "execution_count": 11
  },
  {
   "cell_type": "markdown",
   "source": [
    "### On peut observer la dimension d'un dataSet avec l'attribut shape"
   ],
   "metadata": {
    "collapsed": false
   },
   "id": "fd45a0a387efa583"
  },
  {
   "cell_type": "code",
   "outputs": [
    {
     "data": {
      "text/plain": "(200, 11)"
     },
     "execution_count": 12,
     "metadata": {},
     "output_type": "execute_result"
    }
   ],
   "source": [
    "data.shape"
   ],
   "metadata": {
    "collapsed": false,
    "ExecuteTime": {
     "end_time": "2024-03-28T09:06:45.587577Z",
     "start_time": "2024-03-28T09:06:45.578512Z"
    }
   },
   "id": "b77e0682cc8e33c2",
   "execution_count": 12
  },
  {
   "cell_type": "code",
   "outputs": [
    {
     "data": {
      "text/plain": "dtype('float64')"
     },
     "execution_count": 13,
     "metadata": {},
     "output_type": "execute_result"
    }
   ],
   "source": [
    "data['x.1'].dtype"
   ],
   "metadata": {
    "collapsed": false,
    "ExecuteTime": {
     "end_time": "2024-03-28T09:07:23.632248Z",
     "start_time": "2024-03-28T09:07:23.627799Z"
    }
   },
   "id": "b9c93d1335565da1",
   "execution_count": 13
  },
  {
   "cell_type": "markdown",
   "source": [
    "### Indexing sur un dataset"
   ],
   "metadata": {
    "collapsed": false
   },
   "id": "21a5f0f65970c8ca"
  },
  {
   "cell_type": "code",
   "outputs": [],
   "source": [
    "subset = data.loc[1:3, ['x.1', 'x.2']]\n"
   ],
   "metadata": {
    "collapsed": false,
    "ExecuteTime": {
     "end_time": "2024-03-30T16:31:45.563838Z",
     "start_time": "2024-03-30T16:31:45.557287Z"
    }
   },
   "id": "171be2f19dd8e138",
   "execution_count": 25
  },
  {
   "cell_type": "code",
   "outputs": [
    {
     "data": {
      "text/plain": "        x.1       x.2\n1 -1.595718 -0.255838\n2  1.724229  0.599976\n3  1.001717  0.711466",
      "text/html": "<div>\n<style scoped>\n    .dataframe tbody tr th:only-of-type {\n        vertical-align: middle;\n    }\n\n    .dataframe tbody tr th {\n        vertical-align: top;\n    }\n\n    .dataframe thead th {\n        text-align: right;\n    }\n</style>\n<table border=\"1\" class=\"dataframe\">\n  <thead>\n    <tr style=\"text-align: right;\">\n      <th></th>\n      <th>x.1</th>\n      <th>x.2</th>\n    </tr>\n  </thead>\n  <tbody>\n    <tr>\n      <th>1</th>\n      <td>-1.595718</td>\n      <td>-0.255838</td>\n    </tr>\n    <tr>\n      <th>2</th>\n      <td>1.724229</td>\n      <td>0.599976</td>\n    </tr>\n    <tr>\n      <th>3</th>\n      <td>1.001717</td>\n      <td>0.711466</td>\n    </tr>\n  </tbody>\n</table>\n</div>"
     },
     "execution_count": 26,
     "metadata": {},
     "output_type": "execute_result"
    }
   ],
   "source": [
    "subset"
   ],
   "metadata": {
    "collapsed": false,
    "ExecuteTime": {
     "end_time": "2024-03-30T16:31:46.234556Z",
     "start_time": "2024-03-30T16:31:46.231651Z"
    }
   },
   "id": "2501c971a40b476a",
   "execution_count": 26
  },
  {
   "cell_type": "code",
   "outputs": [
    {
     "data": {
      "text/plain": "2      1.311773\n3     -0.035941\n4     -0.435724\n5     -0.653176\n6      1.032073\n         ...   \n194    0.454947\n195   -0.657110\n197   -0.446621\n199   -0.248525\n200    1.068648\nName: x.4, Length: 106, dtype: float64"
     },
     "execution_count": 28,
     "metadata": {},
     "output_type": "execute_result"
    }
   ],
   "source": [
    "data[data['x.1'] > data['x.2']]['x.4']"
   ],
   "metadata": {
    "collapsed": false,
    "ExecuteTime": {
     "end_time": "2024-03-30T16:37:01.084742Z",
     "start_time": "2024-03-30T16:37:01.069211Z"
    }
   },
   "id": "1e092ef83ca84c0f",
   "execution_count": 28
  },
  {
   "cell_type": "code",
   "outputs": [
    {
     "data": {
      "text/plain": "28"
     },
     "execution_count": 35,
     "metadata": {},
     "output_type": "execute_result"
    }
   ],
   "source": [
    "len(data[data['x.1'] > 1])"
   ],
   "metadata": {
    "collapsed": false,
    "ExecuteTime": {
     "end_time": "2024-03-30T16:39:05.773364Z",
     "start_time": "2024-03-30T16:39:05.765829Z"
    }
   },
   "id": "7d04ee111a32da7a",
   "execution_count": 35
  },
  {
   "cell_type": "code",
   "outputs": [
    {
     "data": {
      "text/plain": "2.78791292601555"
     },
     "execution_count": 36,
     "metadata": {},
     "output_type": "execute_result"
    }
   ],
   "source": [
    "max(data['x.5'])"
   ],
   "metadata": {
    "collapsed": false,
    "ExecuteTime": {
     "end_time": "2024-03-30T16:39:54.449027Z",
     "start_time": "2024-03-30T16:39:54.440669Z"
    }
   },
   "id": "e67ffa8f666d53de",
   "execution_count": 36
  },
  {
   "cell_type": "code",
   "outputs": [
    {
     "data": {
      "text/plain": "count    200.000000\nmean       0.042877\nstd        0.999265\nmin       -2.315116\n25%       -0.612794\n50%        0.041399\n75%        0.693306\nmax        2.787913\nName: x.5, dtype: float64"
     },
     "execution_count": 37,
     "metadata": {},
     "output_type": "execute_result"
    }
   ],
   "source": [
    "data['x.5'].describe()"
   ],
   "metadata": {
    "collapsed": false,
    "ExecuteTime": {
     "end_time": "2024-03-30T16:40:08.321247Z",
     "start_time": "2024-03-30T16:40:08.316068Z"
    }
   },
   "id": "87e07b914e750ff8",
   "execution_count": 37
  },
  {
   "cell_type": "code",
   "outputs": [],
   "source": [
    "data['x.5*10'] = data['x.5']*10"
   ],
   "metadata": {
    "collapsed": false,
    "ExecuteTime": {
     "end_time": "2024-03-30T16:41:46.803966Z",
     "start_time": "2024-03-30T16:41:46.796859Z"
    }
   },
   "id": "be7c2b56c74a68cd",
   "execution_count": 39
  },
  {
   "cell_type": "code",
   "outputs": [
    {
     "data": {
      "text/plain": "            y       x.1       x.2       x.3       x.4       x.5       x.6  \\\n1    6.226780 -1.595718 -0.255838  1.048040  1.702839  1.280720  0.391428   \n2   -3.184444  1.724229  0.599976  0.093819  1.311773 -2.182775 -0.464489   \n3    0.097187  1.001717  0.711466  0.695617 -0.035941 -1.494896  0.765726   \n4    1.634090  0.147048 -0.810422  0.634098 -0.435724  0.290709 -0.464527   \n5   -4.086672  0.164425 -0.023377 -1.124172 -0.653176  0.157452  2.216320   \n..        ...       ...       ...       ...       ...       ...       ...   \n196 -9.850485 -0.478300  0.372939 -1.598757 -1.355802 -1.953149  0.511252   \n197  0.500821  1.429691  0.937841 -0.307446 -0.446621  1.068907  0.180681   \n198 -1.223732 -1.555904  0.437670 -0.698305 -0.214172  0.623098  0.800069   \n199 -0.945797 -0.578478 -1.088987 -1.035937 -0.248525  1.224441 -0.246344   \n200 -2.194998  0.375923 -1.034133 -1.006832  1.068648  0.137237  0.532253   \n\n          x.7       x.8       x.9      x.10     x.5*10  \n1    0.584800  0.261684 -1.799476  0.712451  12.807204  \n2   -0.273726 -1.435655 -0.953009  0.599511 -21.827748  \n3    0.688095 -1.049411 -0.277114  1.731602 -14.948963  \n4    0.130383  1.681562 -0.224179  1.727557   2.907093  \n5    1.974694 -0.359101  0.834054  1.132736   1.574524  \n..        ...       ...       ...       ...        ...  \n196 -0.946208 -2.173545 -0.332831 -1.131275 -19.531493  \n197 -0.229191  0.396737 -1.367210  1.743393  10.689073  \n198 -0.455800  0.020572  0.298395  0.600654   6.230976  \n199  0.122827  0.177175  0.390423  0.347353  12.244405  \n200  1.097285  1.880308 -1.639550 -0.988618   1.372366  \n\n[200 rows x 12 columns]",
      "text/html": "<div>\n<style scoped>\n    .dataframe tbody tr th:only-of-type {\n        vertical-align: middle;\n    }\n\n    .dataframe tbody tr th {\n        vertical-align: top;\n    }\n\n    .dataframe thead th {\n        text-align: right;\n    }\n</style>\n<table border=\"1\" class=\"dataframe\">\n  <thead>\n    <tr style=\"text-align: right;\">\n      <th></th>\n      <th>y</th>\n      <th>x.1</th>\n      <th>x.2</th>\n      <th>x.3</th>\n      <th>x.4</th>\n      <th>x.5</th>\n      <th>x.6</th>\n      <th>x.7</th>\n      <th>x.8</th>\n      <th>x.9</th>\n      <th>x.10</th>\n      <th>x.5*10</th>\n    </tr>\n  </thead>\n  <tbody>\n    <tr>\n      <th>1</th>\n      <td>6.226780</td>\n      <td>-1.595718</td>\n      <td>-0.255838</td>\n      <td>1.048040</td>\n      <td>1.702839</td>\n      <td>1.280720</td>\n      <td>0.391428</td>\n      <td>0.584800</td>\n      <td>0.261684</td>\n      <td>-1.799476</td>\n      <td>0.712451</td>\n      <td>12.807204</td>\n    </tr>\n    <tr>\n      <th>2</th>\n      <td>-3.184444</td>\n      <td>1.724229</td>\n      <td>0.599976</td>\n      <td>0.093819</td>\n      <td>1.311773</td>\n      <td>-2.182775</td>\n      <td>-0.464489</td>\n      <td>-0.273726</td>\n      <td>-1.435655</td>\n      <td>-0.953009</td>\n      <td>0.599511</td>\n      <td>-21.827748</td>\n    </tr>\n    <tr>\n      <th>3</th>\n      <td>0.097187</td>\n      <td>1.001717</td>\n      <td>0.711466</td>\n      <td>0.695617</td>\n      <td>-0.035941</td>\n      <td>-1.494896</td>\n      <td>0.765726</td>\n      <td>0.688095</td>\n      <td>-1.049411</td>\n      <td>-0.277114</td>\n      <td>1.731602</td>\n      <td>-14.948963</td>\n    </tr>\n    <tr>\n      <th>4</th>\n      <td>1.634090</td>\n      <td>0.147048</td>\n      <td>-0.810422</td>\n      <td>0.634098</td>\n      <td>-0.435724</td>\n      <td>0.290709</td>\n      <td>-0.464527</td>\n      <td>0.130383</td>\n      <td>1.681562</td>\n      <td>-0.224179</td>\n      <td>1.727557</td>\n      <td>2.907093</td>\n    </tr>\n    <tr>\n      <th>5</th>\n      <td>-4.086672</td>\n      <td>0.164425</td>\n      <td>-0.023377</td>\n      <td>-1.124172</td>\n      <td>-0.653176</td>\n      <td>0.157452</td>\n      <td>2.216320</td>\n      <td>1.974694</td>\n      <td>-0.359101</td>\n      <td>0.834054</td>\n      <td>1.132736</td>\n      <td>1.574524</td>\n    </tr>\n    <tr>\n      <th>...</th>\n      <td>...</td>\n      <td>...</td>\n      <td>...</td>\n      <td>...</td>\n      <td>...</td>\n      <td>...</td>\n      <td>...</td>\n      <td>...</td>\n      <td>...</td>\n      <td>...</td>\n      <td>...</td>\n      <td>...</td>\n    </tr>\n    <tr>\n      <th>196</th>\n      <td>-9.850485</td>\n      <td>-0.478300</td>\n      <td>0.372939</td>\n      <td>-1.598757</td>\n      <td>-1.355802</td>\n      <td>-1.953149</td>\n      <td>0.511252</td>\n      <td>-0.946208</td>\n      <td>-2.173545</td>\n      <td>-0.332831</td>\n      <td>-1.131275</td>\n      <td>-19.531493</td>\n    </tr>\n    <tr>\n      <th>197</th>\n      <td>0.500821</td>\n      <td>1.429691</td>\n      <td>0.937841</td>\n      <td>-0.307446</td>\n      <td>-0.446621</td>\n      <td>1.068907</td>\n      <td>0.180681</td>\n      <td>-0.229191</td>\n      <td>0.396737</td>\n      <td>-1.367210</td>\n      <td>1.743393</td>\n      <td>10.689073</td>\n    </tr>\n    <tr>\n      <th>198</th>\n      <td>-1.223732</td>\n      <td>-1.555904</td>\n      <td>0.437670</td>\n      <td>-0.698305</td>\n      <td>-0.214172</td>\n      <td>0.623098</td>\n      <td>0.800069</td>\n      <td>-0.455800</td>\n      <td>0.020572</td>\n      <td>0.298395</td>\n      <td>0.600654</td>\n      <td>6.230976</td>\n    </tr>\n    <tr>\n      <th>199</th>\n      <td>-0.945797</td>\n      <td>-0.578478</td>\n      <td>-1.088987</td>\n      <td>-1.035937</td>\n      <td>-0.248525</td>\n      <td>1.224441</td>\n      <td>-0.246344</td>\n      <td>0.122827</td>\n      <td>0.177175</td>\n      <td>0.390423</td>\n      <td>0.347353</td>\n      <td>12.244405</td>\n    </tr>\n    <tr>\n      <th>200</th>\n      <td>-2.194998</td>\n      <td>0.375923</td>\n      <td>-1.034133</td>\n      <td>-1.006832</td>\n      <td>1.068648</td>\n      <td>0.137237</td>\n      <td>0.532253</td>\n      <td>1.097285</td>\n      <td>1.880308</td>\n      <td>-1.639550</td>\n      <td>-0.988618</td>\n      <td>1.372366</td>\n    </tr>\n  </tbody>\n</table>\n<p>200 rows × 12 columns</p>\n</div>"
     },
     "execution_count": 40,
     "metadata": {},
     "output_type": "execute_result"
    }
   ],
   "source": [
    "data"
   ],
   "metadata": {
    "collapsed": false,
    "ExecuteTime": {
     "end_time": "2024-03-30T16:41:49.661567Z",
     "start_time": "2024-03-30T16:41:49.657899Z"
    }
   },
   "id": "1c94b0b4f2908ef7",
   "execution_count": 40
  },
  {
   "cell_type": "code",
   "outputs": [],
   "source": [
    "data.drop('x.5*10',axis=1,inplace=True)"
   ],
   "metadata": {
    "collapsed": false,
    "ExecuteTime": {
     "end_time": "2024-03-30T16:43:09.696741Z",
     "start_time": "2024-03-30T16:43:09.687745Z"
    }
   },
   "id": "c3d7184d47bd921",
   "execution_count": 41
  },
  {
   "cell_type": "code",
   "outputs": [
    {
     "data": {
      "text/plain": "            y       x.1       x.2       x.3       x.4       x.5       x.6  \\\n1    6.226780 -1.595718 -0.255838  1.048040  1.702839  1.280720  0.391428   \n2   -3.184444  1.724229  0.599976  0.093819  1.311773 -2.182775 -0.464489   \n3    0.097187  1.001717  0.711466  0.695617 -0.035941 -1.494896  0.765726   \n4    1.634090  0.147048 -0.810422  0.634098 -0.435724  0.290709 -0.464527   \n5   -4.086672  0.164425 -0.023377 -1.124172 -0.653176  0.157452  2.216320   \n..        ...       ...       ...       ...       ...       ...       ...   \n196 -9.850485 -0.478300  0.372939 -1.598757 -1.355802 -1.953149  0.511252   \n197  0.500821  1.429691  0.937841 -0.307446 -0.446621  1.068907  0.180681   \n198 -1.223732 -1.555904  0.437670 -0.698305 -0.214172  0.623098  0.800069   \n199 -0.945797 -0.578478 -1.088987 -1.035937 -0.248525  1.224441 -0.246344   \n200 -2.194998  0.375923 -1.034133 -1.006832  1.068648  0.137237  0.532253   \n\n          x.7       x.8       x.9      x.10  \n1    0.584800  0.261684 -1.799476  0.712451  \n2   -0.273726 -1.435655 -0.953009  0.599511  \n3    0.688095 -1.049411 -0.277114  1.731602  \n4    0.130383  1.681562 -0.224179  1.727557  \n5    1.974694 -0.359101  0.834054  1.132736  \n..        ...       ...       ...       ...  \n196 -0.946208 -2.173545 -0.332831 -1.131275  \n197 -0.229191  0.396737 -1.367210  1.743393  \n198 -0.455800  0.020572  0.298395  0.600654  \n199  0.122827  0.177175  0.390423  0.347353  \n200  1.097285  1.880308 -1.639550 -0.988618  \n\n[200 rows x 11 columns]",
      "text/html": "<div>\n<style scoped>\n    .dataframe tbody tr th:only-of-type {\n        vertical-align: middle;\n    }\n\n    .dataframe tbody tr th {\n        vertical-align: top;\n    }\n\n    .dataframe thead th {\n        text-align: right;\n    }\n</style>\n<table border=\"1\" class=\"dataframe\">\n  <thead>\n    <tr style=\"text-align: right;\">\n      <th></th>\n      <th>y</th>\n      <th>x.1</th>\n      <th>x.2</th>\n      <th>x.3</th>\n      <th>x.4</th>\n      <th>x.5</th>\n      <th>x.6</th>\n      <th>x.7</th>\n      <th>x.8</th>\n      <th>x.9</th>\n      <th>x.10</th>\n    </tr>\n  </thead>\n  <tbody>\n    <tr>\n      <th>1</th>\n      <td>6.226780</td>\n      <td>-1.595718</td>\n      <td>-0.255838</td>\n      <td>1.048040</td>\n      <td>1.702839</td>\n      <td>1.280720</td>\n      <td>0.391428</td>\n      <td>0.584800</td>\n      <td>0.261684</td>\n      <td>-1.799476</td>\n      <td>0.712451</td>\n    </tr>\n    <tr>\n      <th>2</th>\n      <td>-3.184444</td>\n      <td>1.724229</td>\n      <td>0.599976</td>\n      <td>0.093819</td>\n      <td>1.311773</td>\n      <td>-2.182775</td>\n      <td>-0.464489</td>\n      <td>-0.273726</td>\n      <td>-1.435655</td>\n      <td>-0.953009</td>\n      <td>0.599511</td>\n    </tr>\n    <tr>\n      <th>3</th>\n      <td>0.097187</td>\n      <td>1.001717</td>\n      <td>0.711466</td>\n      <td>0.695617</td>\n      <td>-0.035941</td>\n      <td>-1.494896</td>\n      <td>0.765726</td>\n      <td>0.688095</td>\n      <td>-1.049411</td>\n      <td>-0.277114</td>\n      <td>1.731602</td>\n    </tr>\n    <tr>\n      <th>4</th>\n      <td>1.634090</td>\n      <td>0.147048</td>\n      <td>-0.810422</td>\n      <td>0.634098</td>\n      <td>-0.435724</td>\n      <td>0.290709</td>\n      <td>-0.464527</td>\n      <td>0.130383</td>\n      <td>1.681562</td>\n      <td>-0.224179</td>\n      <td>1.727557</td>\n    </tr>\n    <tr>\n      <th>5</th>\n      <td>-4.086672</td>\n      <td>0.164425</td>\n      <td>-0.023377</td>\n      <td>-1.124172</td>\n      <td>-0.653176</td>\n      <td>0.157452</td>\n      <td>2.216320</td>\n      <td>1.974694</td>\n      <td>-0.359101</td>\n      <td>0.834054</td>\n      <td>1.132736</td>\n    </tr>\n    <tr>\n      <th>...</th>\n      <td>...</td>\n      <td>...</td>\n      <td>...</td>\n      <td>...</td>\n      <td>...</td>\n      <td>...</td>\n      <td>...</td>\n      <td>...</td>\n      <td>...</td>\n      <td>...</td>\n      <td>...</td>\n    </tr>\n    <tr>\n      <th>196</th>\n      <td>-9.850485</td>\n      <td>-0.478300</td>\n      <td>0.372939</td>\n      <td>-1.598757</td>\n      <td>-1.355802</td>\n      <td>-1.953149</td>\n      <td>0.511252</td>\n      <td>-0.946208</td>\n      <td>-2.173545</td>\n      <td>-0.332831</td>\n      <td>-1.131275</td>\n    </tr>\n    <tr>\n      <th>197</th>\n      <td>0.500821</td>\n      <td>1.429691</td>\n      <td>0.937841</td>\n      <td>-0.307446</td>\n      <td>-0.446621</td>\n      <td>1.068907</td>\n      <td>0.180681</td>\n      <td>-0.229191</td>\n      <td>0.396737</td>\n      <td>-1.367210</td>\n      <td>1.743393</td>\n    </tr>\n    <tr>\n      <th>198</th>\n      <td>-1.223732</td>\n      <td>-1.555904</td>\n      <td>0.437670</td>\n      <td>-0.698305</td>\n      <td>-0.214172</td>\n      <td>0.623098</td>\n      <td>0.800069</td>\n      <td>-0.455800</td>\n      <td>0.020572</td>\n      <td>0.298395</td>\n      <td>0.600654</td>\n    </tr>\n    <tr>\n      <th>199</th>\n      <td>-0.945797</td>\n      <td>-0.578478</td>\n      <td>-1.088987</td>\n      <td>-1.035937</td>\n      <td>-0.248525</td>\n      <td>1.224441</td>\n      <td>-0.246344</td>\n      <td>0.122827</td>\n      <td>0.177175</td>\n      <td>0.390423</td>\n      <td>0.347353</td>\n    </tr>\n    <tr>\n      <th>200</th>\n      <td>-2.194998</td>\n      <td>0.375923</td>\n      <td>-1.034133</td>\n      <td>-1.006832</td>\n      <td>1.068648</td>\n      <td>0.137237</td>\n      <td>0.532253</td>\n      <td>1.097285</td>\n      <td>1.880308</td>\n      <td>-1.639550</td>\n      <td>-0.988618</td>\n    </tr>\n  </tbody>\n</table>\n<p>200 rows × 11 columns</p>\n</div>"
     },
     "execution_count": 42,
     "metadata": {},
     "output_type": "execute_result"
    }
   ],
   "source": [
    "data"
   ],
   "metadata": {
    "collapsed": false,
    "ExecuteTime": {
     "end_time": "2024-03-30T16:43:12.129549Z",
     "start_time": "2024-03-30T16:43:12.125400Z"
    }
   },
   "id": "f00122c9700c74b8",
   "execution_count": 42
  },
  {
   "cell_type": "code",
   "outputs": [],
   "source": [],
   "metadata": {
    "collapsed": false
   },
   "id": "be3e58603ef86821"
  },
  {
   "cell_type": "markdown",
   "source": [
    "## Tests statistiques"
   ],
   "metadata": {
    "collapsed": false
   },
   "id": "dd213eb0d82f4fdd"
  },
  {
   "cell_type": "code",
   "outputs": [],
   "source": [],
   "metadata": {
    "collapsed": false
   },
   "id": "9a867c484470e90"
  },
  {
   "cell_type": "markdown",
   "source": [
    "### Comparaison de moyennes"
   ],
   "metadata": {
    "collapsed": false
   },
   "id": "e4bb662d3af4cc91"
  },
  {
   "cell_type": "code",
   "outputs": [],
   "source": [
    "from scipy.stats import *"
   ],
   "metadata": {
    "collapsed": false,
    "ExecuteTime": {
     "end_time": "2024-03-30T17:22:29.689875Z",
     "start_time": "2024-03-30T17:22:29.686633Z"
    }
   },
   "id": "50915d2084a22c9",
   "execution_count": 79
  },
  {
   "cell_type": "code",
   "outputs": [],
   "source": [
    "breastc = pd.read_csv(\"breast_cancer.csv\")"
   ],
   "metadata": {
    "collapsed": false,
    "ExecuteTime": {
     "end_time": "2024-03-30T16:52:20.192483Z",
     "start_time": "2024-03-30T16:52:20.185516Z"
    }
   },
   "id": "eef877623876370c",
   "execution_count": 46
  },
  {
   "cell_type": "code",
   "outputs": [
    {
     "data": {
      "text/plain": "           id diagnosis  radius_mean  texture_mean  perimeter_mean  area_mean  \\\n0      842302         M        17.99         10.38          122.80     1001.0   \n1      842517         M        20.57         17.77          132.90     1326.0   \n2    84300903         M        19.69         21.25          130.00     1203.0   \n3    84348301         M        11.42         20.38           77.58      386.1   \n4    84358402         M        20.29         14.34          135.10     1297.0   \n..        ...       ...          ...           ...             ...        ...   \n564    926424         M        21.56         22.39          142.00     1479.0   \n565    926682         M        20.13         28.25          131.20     1261.0   \n566    926954         M        16.60         28.08          108.30      858.1   \n567    927241         M        20.60         29.33          140.10     1265.0   \n568     92751         B         7.76         24.54           47.92      181.0   \n\n     smoothness_mean  compactness_mean  concavity_mean  concave_points_mean  \\\n0            0.11840           0.27760         0.30010              0.14710   \n1            0.08474           0.07864         0.08690              0.07017   \n2            0.10960           0.15990         0.19740              0.12790   \n3            0.14250           0.28390         0.24140              0.10520   \n4            0.10030           0.13280         0.19800              0.10430   \n..               ...               ...             ...                  ...   \n564          0.11100           0.11590         0.24390              0.13890   \n565          0.09780           0.10340         0.14400              0.09791   \n566          0.08455           0.10230         0.09251              0.05302   \n567          0.11780           0.27700         0.35140              0.15200   \n568          0.05263           0.04362         0.00000              0.00000   \n\n     ...  radius_worst  texture_worst  perimeter_worst  area_worst  \\\n0    ...        25.380          17.33           184.60      2019.0   \n1    ...        24.990          23.41           158.80      1956.0   \n2    ...        23.570          25.53           152.50      1709.0   \n3    ...        14.910          26.50            98.87       567.7   \n4    ...        22.540          16.67           152.20      1575.0   \n..   ...           ...            ...              ...         ...   \n564  ...        25.450          26.40           166.10      2027.0   \n565  ...        23.690          38.25           155.00      1731.0   \n566  ...        18.980          34.12           126.70      1124.0   \n567  ...        25.740          39.42           184.60      1821.0   \n568  ...         9.456          30.37            59.16       268.6   \n\n     smoothness_worst  compactness_worst  concavity_worst  \\\n0             0.16220            0.66560           0.7119   \n1             0.12380            0.18660           0.2416   \n2             0.14440            0.42450           0.4504   \n3             0.20980            0.86630           0.6869   \n4             0.13740            0.20500           0.4000   \n..                ...                ...              ...   \n564           0.14100            0.21130           0.4107   \n565           0.11660            0.19220           0.3215   \n566           0.11390            0.30940           0.3403   \n567           0.16500            0.86810           0.9387   \n568           0.08996            0.06444           0.0000   \n\n     concave points_worst  symmetry_worst  fractal_dimension_worst  \n0                  0.2654          0.4601                  0.11890  \n1                  0.1860          0.2750                  0.08902  \n2                  0.2430          0.3613                  0.08758  \n3                  0.2575          0.6638                  0.17300  \n4                  0.1625          0.2364                  0.07678  \n..                    ...             ...                      ...  \n564                0.2216          0.2060                  0.07115  \n565                0.1628          0.2572                  0.06637  \n566                0.1418          0.2218                  0.07820  \n567                0.2650          0.4087                  0.12400  \n568                0.0000          0.2871                  0.07039  \n\n[569 rows x 32 columns]",
      "text/html": "<div>\n<style scoped>\n    .dataframe tbody tr th:only-of-type {\n        vertical-align: middle;\n    }\n\n    .dataframe tbody tr th {\n        vertical-align: top;\n    }\n\n    .dataframe thead th {\n        text-align: right;\n    }\n</style>\n<table border=\"1\" class=\"dataframe\">\n  <thead>\n    <tr style=\"text-align: right;\">\n      <th></th>\n      <th>id</th>\n      <th>diagnosis</th>\n      <th>radius_mean</th>\n      <th>texture_mean</th>\n      <th>perimeter_mean</th>\n      <th>area_mean</th>\n      <th>smoothness_mean</th>\n      <th>compactness_mean</th>\n      <th>concavity_mean</th>\n      <th>concave_points_mean</th>\n      <th>...</th>\n      <th>radius_worst</th>\n      <th>texture_worst</th>\n      <th>perimeter_worst</th>\n      <th>area_worst</th>\n      <th>smoothness_worst</th>\n      <th>compactness_worst</th>\n      <th>concavity_worst</th>\n      <th>concave points_worst</th>\n      <th>symmetry_worst</th>\n      <th>fractal_dimension_worst</th>\n    </tr>\n  </thead>\n  <tbody>\n    <tr>\n      <th>0</th>\n      <td>842302</td>\n      <td>M</td>\n      <td>17.99</td>\n      <td>10.38</td>\n      <td>122.80</td>\n      <td>1001.0</td>\n      <td>0.11840</td>\n      <td>0.27760</td>\n      <td>0.30010</td>\n      <td>0.14710</td>\n      <td>...</td>\n      <td>25.380</td>\n      <td>17.33</td>\n      <td>184.60</td>\n      <td>2019.0</td>\n      <td>0.16220</td>\n      <td>0.66560</td>\n      <td>0.7119</td>\n      <td>0.2654</td>\n      <td>0.4601</td>\n      <td>0.11890</td>\n    </tr>\n    <tr>\n      <th>1</th>\n      <td>842517</td>\n      <td>M</td>\n      <td>20.57</td>\n      <td>17.77</td>\n      <td>132.90</td>\n      <td>1326.0</td>\n      <td>0.08474</td>\n      <td>0.07864</td>\n      <td>0.08690</td>\n      <td>0.07017</td>\n      <td>...</td>\n      <td>24.990</td>\n      <td>23.41</td>\n      <td>158.80</td>\n      <td>1956.0</td>\n      <td>0.12380</td>\n      <td>0.18660</td>\n      <td>0.2416</td>\n      <td>0.1860</td>\n      <td>0.2750</td>\n      <td>0.08902</td>\n    </tr>\n    <tr>\n      <th>2</th>\n      <td>84300903</td>\n      <td>M</td>\n      <td>19.69</td>\n      <td>21.25</td>\n      <td>130.00</td>\n      <td>1203.0</td>\n      <td>0.10960</td>\n      <td>0.15990</td>\n      <td>0.19740</td>\n      <td>0.12790</td>\n      <td>...</td>\n      <td>23.570</td>\n      <td>25.53</td>\n      <td>152.50</td>\n      <td>1709.0</td>\n      <td>0.14440</td>\n      <td>0.42450</td>\n      <td>0.4504</td>\n      <td>0.2430</td>\n      <td>0.3613</td>\n      <td>0.08758</td>\n    </tr>\n    <tr>\n      <th>3</th>\n      <td>84348301</td>\n      <td>M</td>\n      <td>11.42</td>\n      <td>20.38</td>\n      <td>77.58</td>\n      <td>386.1</td>\n      <td>0.14250</td>\n      <td>0.28390</td>\n      <td>0.24140</td>\n      <td>0.10520</td>\n      <td>...</td>\n      <td>14.910</td>\n      <td>26.50</td>\n      <td>98.87</td>\n      <td>567.7</td>\n      <td>0.20980</td>\n      <td>0.86630</td>\n      <td>0.6869</td>\n      <td>0.2575</td>\n      <td>0.6638</td>\n      <td>0.17300</td>\n    </tr>\n    <tr>\n      <th>4</th>\n      <td>84358402</td>\n      <td>M</td>\n      <td>20.29</td>\n      <td>14.34</td>\n      <td>135.10</td>\n      <td>1297.0</td>\n      <td>0.10030</td>\n      <td>0.13280</td>\n      <td>0.19800</td>\n      <td>0.10430</td>\n      <td>...</td>\n      <td>22.540</td>\n      <td>16.67</td>\n      <td>152.20</td>\n      <td>1575.0</td>\n      <td>0.13740</td>\n      <td>0.20500</td>\n      <td>0.4000</td>\n      <td>0.1625</td>\n      <td>0.2364</td>\n      <td>0.07678</td>\n    </tr>\n    <tr>\n      <th>...</th>\n      <td>...</td>\n      <td>...</td>\n      <td>...</td>\n      <td>...</td>\n      <td>...</td>\n      <td>...</td>\n      <td>...</td>\n      <td>...</td>\n      <td>...</td>\n      <td>...</td>\n      <td>...</td>\n      <td>...</td>\n      <td>...</td>\n      <td>...</td>\n      <td>...</td>\n      <td>...</td>\n      <td>...</td>\n      <td>...</td>\n      <td>...</td>\n      <td>...</td>\n      <td>...</td>\n    </tr>\n    <tr>\n      <th>564</th>\n      <td>926424</td>\n      <td>M</td>\n      <td>21.56</td>\n      <td>22.39</td>\n      <td>142.00</td>\n      <td>1479.0</td>\n      <td>0.11100</td>\n      <td>0.11590</td>\n      <td>0.24390</td>\n      <td>0.13890</td>\n      <td>...</td>\n      <td>25.450</td>\n      <td>26.40</td>\n      <td>166.10</td>\n      <td>2027.0</td>\n      <td>0.14100</td>\n      <td>0.21130</td>\n      <td>0.4107</td>\n      <td>0.2216</td>\n      <td>0.2060</td>\n      <td>0.07115</td>\n    </tr>\n    <tr>\n      <th>565</th>\n      <td>926682</td>\n      <td>M</td>\n      <td>20.13</td>\n      <td>28.25</td>\n      <td>131.20</td>\n      <td>1261.0</td>\n      <td>0.09780</td>\n      <td>0.10340</td>\n      <td>0.14400</td>\n      <td>0.09791</td>\n      <td>...</td>\n      <td>23.690</td>\n      <td>38.25</td>\n      <td>155.00</td>\n      <td>1731.0</td>\n      <td>0.11660</td>\n      <td>0.19220</td>\n      <td>0.3215</td>\n      <td>0.1628</td>\n      <td>0.2572</td>\n      <td>0.06637</td>\n    </tr>\n    <tr>\n      <th>566</th>\n      <td>926954</td>\n      <td>M</td>\n      <td>16.60</td>\n      <td>28.08</td>\n      <td>108.30</td>\n      <td>858.1</td>\n      <td>0.08455</td>\n      <td>0.10230</td>\n      <td>0.09251</td>\n      <td>0.05302</td>\n      <td>...</td>\n      <td>18.980</td>\n      <td>34.12</td>\n      <td>126.70</td>\n      <td>1124.0</td>\n      <td>0.11390</td>\n      <td>0.30940</td>\n      <td>0.3403</td>\n      <td>0.1418</td>\n      <td>0.2218</td>\n      <td>0.07820</td>\n    </tr>\n    <tr>\n      <th>567</th>\n      <td>927241</td>\n      <td>M</td>\n      <td>20.60</td>\n      <td>29.33</td>\n      <td>140.10</td>\n      <td>1265.0</td>\n      <td>0.11780</td>\n      <td>0.27700</td>\n      <td>0.35140</td>\n      <td>0.15200</td>\n      <td>...</td>\n      <td>25.740</td>\n      <td>39.42</td>\n      <td>184.60</td>\n      <td>1821.0</td>\n      <td>0.16500</td>\n      <td>0.86810</td>\n      <td>0.9387</td>\n      <td>0.2650</td>\n      <td>0.4087</td>\n      <td>0.12400</td>\n    </tr>\n    <tr>\n      <th>568</th>\n      <td>92751</td>\n      <td>B</td>\n      <td>7.76</td>\n      <td>24.54</td>\n      <td>47.92</td>\n      <td>181.0</td>\n      <td>0.05263</td>\n      <td>0.04362</td>\n      <td>0.00000</td>\n      <td>0.00000</td>\n      <td>...</td>\n      <td>9.456</td>\n      <td>30.37</td>\n      <td>59.16</td>\n      <td>268.6</td>\n      <td>0.08996</td>\n      <td>0.06444</td>\n      <td>0.0000</td>\n      <td>0.0000</td>\n      <td>0.2871</td>\n      <td>0.07039</td>\n    </tr>\n  </tbody>\n</table>\n<p>569 rows × 32 columns</p>\n</div>"
     },
     "execution_count": 47,
     "metadata": {},
     "output_type": "execute_result"
    }
   ],
   "source": [
    "breastc"
   ],
   "metadata": {
    "collapsed": false,
    "ExecuteTime": {
     "end_time": "2024-03-30T16:53:25.098860Z",
     "start_time": "2024-03-30T16:53:25.081560Z"
    }
   },
   "id": "39c61956796f1b91",
   "execution_count": 47
  },
  {
   "cell_type": "code",
   "outputs": [
    {
     "data": {
      "text/plain": "<Axes: >"
     },
     "execution_count": 58,
     "metadata": {},
     "output_type": "execute_result"
    },
    {
     "data": {
      "text/plain": "<Figure size 640x480 with 1 Axes>",
      "image/png": "[encoded data removed]"
     },
     "metadata": {},
     "output_type": "display_data"
    }
   ],
   "source": [
    "breastc['radius_mean'].hist(bins=20,color='grey')"
   ],
   "metadata": {
    "collapsed": false,
    "ExecuteTime": {
     "end_time": "2024-03-30T17:03:18.542502Z",
     "start_time": "2024-03-30T17:03:18.488424Z"
    }
   },
   "id": "7a2f5c2c1199b5fe",
   "execution_count": 58
  },
  {
   "cell_type": "code",
   "outputs": [],
   "source": [],
   "metadata": {
    "collapsed": false,
    "ExecuteTime": {
     "end_time": "2024-03-30T17:02:35.470298Z",
     "start_time": "2024-03-30T17:02:35.466581Z"
    }
   },
   "id": "dc893be4657983b2",
   "execution_count": 56
  },
  {
   "cell_type": "code",
   "outputs": [],
   "source": [
    "df_malignant = breastc[breastc['diagnosis'] == \"M\"]"
   ],
   "metadata": {
    "collapsed": false,
    "ExecuteTime": {
     "end_time": "2024-03-30T17:05:21.926636Z",
     "start_time": "2024-03-30T17:05:21.923051Z"
    }
   },
   "id": "6fa3e3952d6b385c",
   "execution_count": 60
  },
  {
   "cell_type": "code",
   "outputs": [],
   "source": [
    "df_benign = breastc[breastc['diagnosis'] == \"B\"]"
   ],
   "metadata": {
    "collapsed": false,
    "ExecuteTime": {
     "end_time": "2024-03-30T17:05:41.168780Z",
     "start_time": "2024-03-30T17:05:41.158564Z"
    }
   },
   "id": "1d5d784560502093",
   "execution_count": 61
  },
  {
   "cell_type": "code",
   "outputs": [
    {
     "data": {
      "text/plain": "<Axes: >"
     },
     "execution_count": 62,
     "metadata": {},
     "output_type": "execute_result"
    },
    {
     "data": {
      "text/plain": "<Figure size 640x480 with 1 Axes>",
      "image/png": "[encoded data removed]"
     },
     "metadata": {},
     "output_type": "display_data"
    }
   ],
   "source": [
    "df_malignant['radius_mean'].hist(bins=20,color='red')"
   ],
   "metadata": {
    "collapsed": false,
    "ExecuteTime": {
     "end_time": "2024-03-30T17:06:24.702099Z",
     "start_time": "2024-03-30T17:06:24.649252Z"
    }
   },
   "id": "92e2a04e82b57d46",
   "execution_count": 62
  },
  {
   "cell_type": "code",
   "outputs": [
    {
     "data": {
      "text/plain": "<Figure size 640x480 with 1 Axes>",
      "image/png": "[encoded data removed]"
     },
     "metadata": {},
     "output_type": "display_data"
    }
   ],
   "source": [
    "fig, ax = plt.subplots()\n",
    "\n",
    "# Tracer l'histogramme pour 'radius_mean'\n",
    "ax.hist(df_benign['radius_mean'], bins=20, color='skyblue', alpha=0.7, label='Benign radius')\n",
    "\n",
    "# Tracer l'histogramme pour 'texture_mean' sur les mêmes axes\n",
    "ax.hist(df_malignant['radius_mean'], bins=20, color='salmon', alpha=0.7, label='Malignant radius')\n",
    "\n",
    "# Ajouter une légende\n",
    "ax.legend()\n",
    "\n",
    "# Personnaliser l'étiquette de l'axe x et le titre\n",
    "ax.set_xlabel('Value')\n",
    "ax.set_title('Histograms of cells')\n",
    "\n",
    "# Afficher l'histogramme\n",
    "plt.show()"
   ],
   "metadata": {
    "collapsed": false,
    "ExecuteTime": {
     "end_time": "2024-03-30T17:10:35.537154Z",
     "start_time": "2024-03-30T17:10:35.464853Z"
    }
   },
   "id": "d7ea92522d952c0d",
   "execution_count": 65
  },
  {
   "cell_type": "code",
   "outputs": [
    {
     "data": {
      "text/plain": "<Figure size 640x480 with 1 Axes>",
      "image/png": "[encoded data removed]"
     },
     "metadata": {},
     "output_type": "display_data"
    }
   ],
   "source": [
    "plt.boxplot([breastc[breastc['diagnosis'] == 'M']['radius_mean'],\n",
    "             breastc[breastc['diagnosis'] == 'B']['radius_mean']],\n",
    "            labels=['Malignant', 'Benign'],\n",
    "            patch_artist=True,  # Remplir les boîtes avec des couleurs\n",
    "            notch=True,  # Afficher la médiane avec un \"notch\"\n",
    "            vert=False)  # Tracer les boîtes horizontalement\n",
    "\n",
    "# Ajouter des titres et des étiquettes d'axe\n",
    "plt.title('Boîte à moustaches - Rayon moyen en fonction du diagnostic')\n",
    "plt.ylabel('Diagnostic')\n",
    "plt.xlabel('radius_mean')\n",
    "\n",
    "# Afficher le boxplot\n",
    "plt.show()"
   ],
   "metadata": {
    "collapsed": false,
    "ExecuteTime": {
     "end_time": "2024-03-30T17:14:53.766226Z",
     "start_time": "2024-03-30T17:14:53.724968Z"
    }
   },
   "id": "1f635d9c98528e49",
   "execution_count": 68
  },
  {
   "cell_type": "code",
   "outputs": [
    {
     "data": {
      "text/plain": "ShapiroResult(statistic=0.9690946093006645, pvalue=0.00013415654721412996)"
     },
     "execution_count": 77,
     "metadata": {},
     "output_type": "execute_result"
    }
   ],
   "source": [
    "shapiro(df_malignant['texture_mean'])\n"
   ],
   "metadata": {
    "collapsed": false,
    "ExecuteTime": {
     "end_time": "2024-03-30T17:19:10.972067Z",
     "start_time": "2024-03-30T17:19:10.963227Z"
    }
   },
   "id": "3d11f88707aff03e",
   "execution_count": 77
  },
  {
   "cell_type": "code",
   "outputs": [
    {
     "data": {
      "text/plain": "ShapiroResult(statistic=0.9441733544922853, pvalue=2.3849484598132546e-10)"
     },
     "execution_count": 78,
     "metadata": {},
     "output_type": "execute_result"
    }
   ],
   "source": [
    "shapiro(df_benign['texture_mean'])"
   ],
   "metadata": {
    "collapsed": false,
    "ExecuteTime": {
     "end_time": "2024-03-30T17:19:13.935382Z",
     "start_time": "2024-03-30T17:19:13.923157Z"
    }
   },
   "id": "fc2f633f3c8dacc5",
   "execution_count": 78
  },
  {
   "cell_type": "markdown",
   "source": [
    "Les données ne suivent pas une loi normale"
   ],
   "metadata": {
    "collapsed": false
   },
   "id": "cc68059f47be00a3"
  },
  {
   "cell_type": "code",
   "outputs": [
    {
     "ename": "ValueError",
     "evalue": "The samples x and y must have the same length.",
     "output_type": "error",
     "traceback": [
      "\u001B[0;31m---------------------------------------------------------------------------\u001B[0m",
      "\u001B[0;31mValueError\u001B[0m                                Traceback (most recent call last)",
      "Cell \u001B[0;32mIn[81], line 1\u001B[0m\n\u001B[0;32m----> 1\u001B[0m stat, p_value \u001B[38;5;241m=\u001B[39m wilcoxon(df_benign[\u001B[38;5;124m'\u001B[39m\u001B[38;5;124mtexture_mean\u001B[39m\u001B[38;5;124m'\u001B[39m], df_malignant[\u001B[38;5;124m'\u001B[39m\u001B[38;5;124mtexture_mean\u001B[39m\u001B[38;5;124m'\u001B[39m])\n\u001B[1;32m      3\u001B[0m \u001B[38;5;66;03m# Interprétation des résultats\u001B[39;00m\n\u001B[1;32m      4\u001B[0m alpha \u001B[38;5;241m=\u001B[39m \u001B[38;5;241m0.05\u001B[39m\n",
      "File \u001B[0;32m~/anaconda3/lib/python3.11/site-packages/scipy/_lib/_util.py:779\u001B[0m, in \u001B[0;36m_rename_parameter.<locals>.decorator.<locals>.wrapper\u001B[0;34m(*args, **kwargs)\u001B[0m\n\u001B[1;32m    777\u001B[0m         \u001B[38;5;28;01mraise\u001B[39;00m \u001B[38;5;167;01mTypeError\u001B[39;00m(message)\n\u001B[1;32m    778\u001B[0m     kwargs[new_name] \u001B[38;5;241m=\u001B[39m kwargs\u001B[38;5;241m.\u001B[39mpop(old_name)\n\u001B[0;32m--> 779\u001B[0m \u001B[38;5;28;01mreturn\u001B[39;00m fun(\u001B[38;5;241m*\u001B[39margs, \u001B[38;5;241m*\u001B[39m\u001B[38;5;241m*\u001B[39mkwargs)\n",
      "File \u001B[0;32m~/anaconda3/lib/python3.11/site-packages/scipy/stats/_axis_nan_policy.py:531\u001B[0m, in \u001B[0;36m_axis_nan_policy_factory.<locals>.axis_nan_policy_decorator.<locals>.axis_nan_policy_wrapper\u001B[0;34m(***failed resolving arguments***)\u001B[0m\n\u001B[1;32m    529\u001B[0m \u001B[38;5;28;01mif\u001B[39;00m sentinel:\n\u001B[1;32m    530\u001B[0m     samples \u001B[38;5;241m=\u001B[39m _remove_sentinel(samples, paired, sentinel)\n\u001B[0;32m--> 531\u001B[0m res \u001B[38;5;241m=\u001B[39m hypotest_fun_out(\u001B[38;5;241m*\u001B[39msamples, \u001B[38;5;241m*\u001B[39m\u001B[38;5;241m*\u001B[39mkwds)\n\u001B[1;32m    532\u001B[0m res \u001B[38;5;241m=\u001B[39m result_to_tuple(res)\n\u001B[1;32m    533\u001B[0m res \u001B[38;5;241m=\u001B[39m _add_reduced_axes(res, reduced_axes, keepdims)\n",
      "File \u001B[0;32m~/anaconda3/lib/python3.11/site-packages/scipy/stats/_morestats.py:4090\u001B[0m, in \u001B[0;36mwilcoxon\u001B[0;34m(x, y, zero_method, correction, alternative, method)\u001B[0m\n\u001B[1;32m   4088\u001B[0m     \u001B[38;5;28;01mraise\u001B[39;00m \u001B[38;5;167;01mValueError\u001B[39;00m(\u001B[38;5;124m'\u001B[39m\u001B[38;5;124mSamples x and y must be one-dimensional.\u001B[39m\u001B[38;5;124m'\u001B[39m)\n\u001B[1;32m   4089\u001B[0m \u001B[38;5;28;01mif\u001B[39;00m \u001B[38;5;28mlen\u001B[39m(x) \u001B[38;5;241m!=\u001B[39m \u001B[38;5;28mlen\u001B[39m(y):\n\u001B[0;32m-> 4090\u001B[0m     \u001B[38;5;28;01mraise\u001B[39;00m \u001B[38;5;167;01mValueError\u001B[39;00m(\u001B[38;5;124m'\u001B[39m\u001B[38;5;124mThe samples x and y must have the same length.\u001B[39m\u001B[38;5;124m'\u001B[39m)\n\u001B[1;32m   4091\u001B[0m \u001B[38;5;66;03m# Future enhancement: consider warning when elements of `d` appear to\u001B[39;00m\n\u001B[1;32m   4092\u001B[0m \u001B[38;5;66;03m# be tied but are numerically distinct.\u001B[39;00m\n\u001B[1;32m   4093\u001B[0m d \u001B[38;5;241m=\u001B[39m x \u001B[38;5;241m-\u001B[39m y\n",
      "\u001B[0;31mValueError\u001B[0m: The samples x and y must have the same length."
     ]
    }
   ],
   "source": [
    "stat, p_value = wilcoxon(df_benign['texture_mean'], df_malignant['texture_mean'])\n",
    "\n",
    "# Interprétation des résultats\n",
    "alpha = 0.05\n",
    "if p_value > alpha:\n",
    "    print(\"Pas de preuve pour rejeter l'hypothèse nulle : les médianes des échantillons sont probablement égales.\")\n",
    "else:\n",
    "    print(\"Rejeter l'hypothèse nulle : les médianes des échantillons sont probablement différentes.\")"
   ],
   "metadata": {
    "collapsed": false,
    "ExecuteTime": {
     "end_time": "2024-03-30T17:33:17.011305Z",
     "start_time": "2024-03-30T17:33:16.904411Z"
    }
   },
   "id": "c1b159b04bd6f6ad",
   "execution_count": 81
  },
  {
   "cell_type": "code",
   "outputs": [],
   "source": [],
   "metadata": {
    "collapsed": false
   },
   "id": "497b707f36e703"
  }
 ],
 "metadata": {
  "kernelspec": {
   "display_name": "Python 3",
   "language": "python",
   "name": "python3"
  },
  "language_info": {
   "codemirror_mode": {
    "name": "ipython",
    "version": 2
   },
   "file_extension": ".py",
   "mimetype": "text/x-python",
   "name": "python",
   "nbconvert_exporter": "python",
   "pygments_lexer": "ipython2",
   "version": "2.7.6"
  }
 },
 "nbformat": 4,
 "nbformat_minor": 5
}
